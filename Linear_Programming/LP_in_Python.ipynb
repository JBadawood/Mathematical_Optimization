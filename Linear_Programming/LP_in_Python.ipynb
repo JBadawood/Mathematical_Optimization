{
  "nbformat": 4,
  "nbformat_minor": 0,
  "metadata": {
    "colab": {
      "provenance": [],
      "collapsed_sections": [
        "hQpnFaKUrIXz",
        "eQlCk_0wrNFf",
        "QP8YjRwJz0zQ",
        "nU4O8_ZIz5yW",
        "1ftu3mXj9WKS",
        "I0KpEfUOCNPu",
        "W8KrgpWLVrxS"
      ],
      "toc_visible": true,
      "authorship_tag": "ABX9TyOPkZP9tEelTsqOdWSH9vKH",
      "include_colab_link": true
    },
    "kernelspec": {
      "name": "python3",
      "display_name": "Python 3"
    },
    "language_info": {
      "name": "python"
    },
    "accelerator": "GPU"
  },
  "cells": [
    {
      "cell_type": "markdown",
      "metadata": {
        "id": "view-in-github",
        "colab_type": "text"
      },
      "source": [
        "<a href=\"https://colab.research.google.com/github/JBadawood/Mathematical_Optimization/blob/main/Linear_Programming/LP_in_Python.ipynb\" target=\"_parent\"><img src=\"https://colab.research.google.com/assets/colab-badge.svg\" alt=\"Open In Colab\"/></a>"
      ]
    },
    {
      "cell_type": "markdown",
      "source": [
        "# **Mathematical Optimization**\n",
        "Get Started with **OR-Tools** for Python  |  Google Developers\\\n",
        "https://developers.google.com/optimization/introduction/python\n",
        "\n",
        "> **Google Optimization Tools** (a.k.a., OR-Tools) *is an open-source, fast and portable software suite for solving combinatorial **optimization problems**.*"
      ],
      "metadata": {
        "id": "hQpnFaKUrIXz"
      }
    },
    {
      "cell_type": "markdown",
      "source": [
        "## **Introduction to Linear Programming in Python**\n",
        "> A guide to **mathematical optimization** with *Google OR-Tools*\\\n",
        "https://towardsdatascience.com/introduction-to-linear-programming-in-python-9261e7eb44b\n"
      ],
      "metadata": {
        "id": "eQlCk_0wrNFf"
      }
    },
    {
      "cell_type": "markdown",
      "source": [
        "Imagine we have millions of units and resources. It is possible to use a **machine learning algorithm** (e.g., a *genetic algorithm*) to solve this problem, but we **have no guarantee** that the **solution will be optimal** either.\n",
        "\n",
        "Fortunately for us, there is a method that can solve our problem in an optimal way: **linear programming** (or **linear optimization**), which is part of the field of **operations research (OR)**."
      ],
      "metadata": {
        "id": "JjYecx40tLMC"
      }
    },
    {
      "cell_type": "markdown",
      "source": [
        "There are three steps to model any **linear optimization problem**:\n",
        "\n",
        "1. Declaring the **variables** to optimize with lower and upper bounds;\n",
        "2. Adding **constraints** to these variables;\n",
        "3. Defining the **objective function** to maximize or to minimize."
      ],
      "metadata": {
        "id": "p_6LDeJdVaeD"
      }
    },
    {
      "cell_type": "markdown",
      "source": [
        "### I. Solvers"
      ],
      "metadata": {
        "id": "QP8YjRwJz0zQ"
      }
    },
    {
      "cell_type": "markdown",
      "source": [
        "In Python, there are different *libraries for linear programming* such as: \n",
        "- the multi-purposed **SciPy**, \n",
        "- the beginner-friendly **PuLP**, \n",
        "- the exhaustive **Pyomo**, and many others.\n",
        "\n",
        "We are going to use **Google OR-Tools**, which is quite user-friendly, comes with several prepackaged solvers, and has by far the most stars on [GitHub](https://github.com/google/or-tools)."
      ],
      "metadata": {
        "id": "Fm17K2UOuQn3"
      }
    },
    {
      "cell_type": "code",
      "execution_count": null,
      "metadata": {
        "colab": {
          "base_uri": "https://localhost:8080/"
        },
        "id": "JxF-H9iHrGio",
        "outputId": "39a3fb07-9927-4bad-b3c1-3115dfb9a879"
      },
      "outputs": [
        {
          "output_type": "stream",
          "name": "stdout",
          "text": [
            "\u001b[K     |████████████████████████████████| 16.0 MB 5.6 MB/s \n",
            "\u001b[K     |████████████████████████████████| 408 kB 70.0 MB/s \n",
            "\u001b[31mERROR: pip's dependency resolver does not currently take into account all the packages that are installed. This behaviour is the source of the following dependency conflicts.\n",
            "tensorflow 2.9.2 requires protobuf<3.20,>=3.9.2, but you have protobuf 4.21.7 which is incompatible.\n",
            "tensorflow-metadata 1.10.0 requires protobuf<4,>=3.13, but you have protobuf 4.21.7 which is incompatible.\n",
            "tensorboard 2.9.1 requires protobuf<3.20,>=3.9.2, but you have protobuf 4.21.7 which is incompatible.\n",
            "google-cloud-bigquery-storage 1.1.2 requires protobuf<4.0.0dev, but you have protobuf 4.21.7 which is incompatible.\n",
            "google-api-core 1.31.6 requires protobuf<4.0.0dev,>=3.12.0; python_version > \"3\", but you have protobuf 4.21.7 which is incompatible.\u001b[0m\n",
            "\u001b[?25h"
          ]
        }
      ],
      "source": [
        "# Installing Google OR-Tools\n",
        "!python -m pip install --upgrade --user -q ortools"
      ]
    },
    {
      "cell_type": "markdown",
      "source": [
        "> OR-Tools comes with its own **linear programming solver**, called **GLOP** (*Google Linear Optimization Package*). It is an open-source project created by Google’s Operations Research Team."
      ],
      "metadata": {
        "id": "JKGVYZGmxaT9"
      }
    },
    {
      "cell_type": "markdown",
      "source": [
        "Runtime > Restart runtime"
      ],
      "metadata": {
        "id": "HElUe0bp0BdR"
      }
    },
    {
      "cell_type": "code",
      "source": [
        "# Import OR-Tools wrapper for linear programming\n",
        "from ortools.linear_solver import pywraplp"
      ],
      "metadata": {
        "id": "YCk082y4wc_K"
      },
      "execution_count": null,
      "outputs": []
    },
    {
      "cell_type": "code",
      "source": [
        "# Create a solver using the GLOP backend\n",
        "solver = pywraplp.Solver('Maximize army power', pywraplp.Solver.GLOP_LINEAR_PROGRAMMING)"
      ],
      "metadata": {
        "id": "nMOz5hZ7ygsu"
      },
      "execution_count": null,
      "outputs": []
    },
    {
      "cell_type": "markdown",
      "source": [
        "### II. Variables"
      ],
      "metadata": {
        "id": "nU4O8_ZIz5yW"
      }
    },
    {
      "cell_type": "markdown",
      "source": [
        "The first thing we want to define is the **variables we want to optimize**.\n",
        "\n",
        "In our example, we have three variables: \n",
        "- the number of 🗡️swordsmen,\n",
        "- the number of 🏹bowmen, and\n",
        "- the number of 🐎horsemen"
      ],
      "metadata": {
        "id": "Sua9SEqR5vkR"
      }
    },
    {
      "cell_type": "markdown",
      "source": [
        "OR-Tools accepts three types of variables:\n",
        "- `NumVar` for **continuous** variables;\n",
        "- `IntVar` for **integer** variables;\n",
        "- `BoolVar` for **boolean** variables."
      ],
      "metadata": {
        "id": "hw8wbSgk6ZPG"
      }
    },
    {
      "cell_type": "markdown",
      "source": [
        "We’re looking for **round numbers** of units, so let’s choose `IntVar`.\\\n",
        "$ 0 \\le Swordsmen \\le ∞ $\\\n",
        "$ 0 \\le Bowmen \\le ∞ $\\\n",
        "$ 0 \\le Horsemen \\le ∞ $"
      ],
      "metadata": {
        "id": "KCizeI2I6wtw"
      }
    },
    {
      "cell_type": "code",
      "source": [
        "# Create the variables we want to optimize\n",
        "Swordsmen = solver.IntVar(0, solver.infinity(), 'Swordsmen')\n",
        "Bowmen = solver.IntVar(0, solver.infinity(), 'Bowmen')\n",
        "Horsemen = solver.IntVar(0, solver.infinity(), 'Horsemen')"
      ],
      "metadata": {
        "id": "1HfE7ULNzqSw"
      },
      "execution_count": null,
      "outputs": []
    },
    {
      "cell_type": "markdown",
      "source": [
        "###  III. Constraints"
      ],
      "metadata": {
        "id": "1ftu3mXj9WKS"
      }
    },
    {
      "cell_type": "markdown",
      "source": [
        "Adding more constraints helps the solver to **find an optimal solution faster**.\n",
        "\n",
        "Three resources:\n",
        "- food, \n",
        "- wood, and \n",
        "- gold\n",
        "\n",
        "We can’t spend more resources than we have. For instance, the **food** spent to recruit units cannot be higher than **1200**. The same is true with **wood (800)** and **gold (600)**."
      ],
      "metadata": {
        "id": "kJ6o55Hn_buc"
      }
    },
    {
      "cell_type": "markdown",
      "source": [
        "$ 60*Swordsmen + 80*Bowmen + 140*Horsemen \\le 1200 $\\\n",
        "$ 20*Swordsmen + 10*Bowmen  \\le 800 $\\\n",
        "$ 40*Bowmen + 100*Horsemen \\le 600 $"
      ],
      "metadata": {
        "id": "6h8pkoX_AnUc"
      }
    },
    {
      "cell_type": "code",
      "source": [
        "# Add constraints for each resource\n",
        "solver.Add(Swordsmen*60 + Bowmen*80 + Horsemen*140 <= 1200) #Food\n",
        "solver.Add(Swordsmen*20 + Bowmen*10 <= 800) #Wood\n",
        "solver.Add(Bowmen*40 + Horsemen*100 <= 600) #Gold"
      ],
      "metadata": {
        "colab": {
          "base_uri": "https://localhost:8080/"
        },
        "id": "hddKOp-C9Qq-",
        "outputId": "3dd45bc9-1932-44f5-b336-df1e6aab41b7"
      },
      "execution_count": null,
      "outputs": [
        {
          "output_type": "execute_result",
          "data": {
            "text/plain": [
              "<ortools.linear_solver.pywraplp.Constraint; proxy of <Swig Object of type 'operations_research::MPConstraint *' at 0x7f1f5bfd5180> >"
            ]
          },
          "metadata": {},
          "execution_count": 4
        }
      ]
    },
    {
      "cell_type": "markdown",
      "source": [
        "### IV. Objective"
      ],
      "metadata": {
        "id": "I0KpEfUOCNPu"
      }
    },
    {
      "cell_type": "markdown",
      "source": [
        "Now that we have our variables and constraints, we want to define our goal (or **objective function**).\n",
        "\n",
        "In linear programming, this function **has to be linear**"
      ],
      "metadata": {
        "id": "xIuikOVnThq_"
      }
    },
    {
      "cell_type": "markdown",
      "source": [
        "Maximizing the power of the army amounts to maximizing the sum of the power of each unit. Our objective function can be written as:\\\n",
        "$max$ $70*Swordmen + 95*Bowmen + 230*Horsemen$"
      ],
      "metadata": {
        "id": "Nc-ea61zURT5"
      }
    },
    {
      "cell_type": "markdown",
      "source": [
        "In general, there are only two types of objective functions: \n",
        "- maximizing or \n",
        "- minimizing. \n",
        "\n",
        "In **OR-Tools**, we declare this goal with `solver.Maximize()` or `solver.Minimize()`."
      ],
      "metadata": {
        "id": "p6CUsTF4Uurr"
      }
    },
    {
      "cell_type": "code",
      "source": [
        "# Maximize the objective function\n",
        "solver.Maximize(Swordsmen*70 + Bowmen*95 + Horsemen*230)"
      ],
      "metadata": {
        "id": "qX52KDEwCIwc"
      },
      "execution_count": null,
      "outputs": []
    },
    {
      "cell_type": "markdown",
      "source": [
        "### V. Optimize!"
      ],
      "metadata": {
        "id": "W8KrgpWLVrxS"
      }
    },
    {
      "cell_type": "markdown",
      "source": [
        "Calculating the optimal solution is done with `solver.Solve()` . This function returns a status that can be used to check that the solution is indeed optimal."
      ],
      "metadata": {
        "id": "RL3_SaT4V6GB"
      }
    },
    {
      "cell_type": "code",
      "source": [
        "status = solver.Solve()"
      ],
      "metadata": {
        "id": "3rZbsMb6VFe3"
      },
      "execution_count": null,
      "outputs": []
    },
    {
      "cell_type": "code",
      "source": [
        "# If an optimal solution has been found, print results\n",
        "if status == pywraplp.Solver.OPTIMAL:\n",
        "    print(f'Solved in {solver.wall_time():.2f} milliseconds in {solver.iterations()} iterations')\n",
        "    print('---------------------------------')\n",
        "    print(f'Optimal power = {solver.Objective().Value()} Power')\n",
        "    print('Variables:')\n",
        "    print(f' - swordsmen = {Swordsmen.solution_value()} \\n - bowmen = {Bowmen.solution_value()} \\n - horsemen = {Horsemen.solution_value()} ')\n",
        "\n",
        "else:\n",
        "    print('The solver could not find the optimal solution')"
      ],
      "metadata": {
        "colab": {
          "base_uri": "https://localhost:8080/"
        },
        "id": "-wNwvWVxWLCH",
        "outputId": "12b8f84c-ba89-4bf3-8632-d7b1ee783cf6"
      },
      "execution_count": null,
      "outputs": [
        {
          "output_type": "stream",
          "name": "stdout",
          "text": [
            "Solved in 66401.00 milliseconds in 0 iterations\n",
            "---------------------------------\n",
            "Optimal power = 1800.0 Power\n",
            "Variables:\n",
            " - swordsmen = 6.0000000000000036 \n",
            " - bowmen = 0.0 \n",
            " - horsemen = 5.999999999999999 \n"
          ]
        }
      ]
    }
  ]
}