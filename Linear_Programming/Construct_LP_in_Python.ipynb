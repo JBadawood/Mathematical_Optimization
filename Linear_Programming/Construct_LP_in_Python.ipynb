{
  "nbformat": 4,
  "nbformat_minor": 0,
  "metadata": {
    "colab": {
      "provenance": [],
      "collapsed_sections": [
        "EgfyFFVhYLgV",
        "nYghbBjQYbc1"
      ],
      "authorship_tag": "ABX9TyNSI6stF2EVfwQunF0je5U+",
      "include_colab_link": true
    },
    "kernelspec": {
      "name": "python3",
      "display_name": "Python 3"
    },
    "language_info": {
      "name": "python"
    }
  },
  "cells": [
    {
      "cell_type": "markdown",
      "metadata": {
        "id": "view-in-github",
        "colab_type": "text"
      },
      "source": [
        "<a href=\"https://colab.research.google.com/github/JBadawood/Mathematical_Optimization/blob/main/Linear_Programming/Construct_LP_in_Python.ipynb\" target=\"_parent\"><img src=\"https://colab.research.google.com/assets/colab-badge.svg\" alt=\"Open In Colab\"/></a>"
      ]
    },
    {
      "cell_type": "markdown",
      "source": [
        "# **Construct a Linear Problem in Python**"
      ],
      "metadata": {
        "id": "HMxJJB6SGAqw"
      }
    },
    {
      "cell_type": "markdown",
      "source": [
        "يمكن حل مسألة البرمجة الخطية عبر Excel solver بس المشكلة لو زاد عدد الـ decision variables عن 200 هنا راح يكون من الصعب الحل بهذه الطريقة وماراح يكون الخيار السليم لحل مثل هذه المسائل\n",
        "\n",
        "لذلك راح نستخدم python في هذه الحالة"
      ],
      "metadata": {
        "id": "lLdmqTj9XENw"
      }
    },
    {
      "cell_type": "markdown",
      "source": [
        "## **1- An Overview**"
      ],
      "metadata": {
        "id": "zU7NCEd5LLIi"
      }
    },
    {
      "cell_type": "markdown",
      "source": [
        "**Finding Solution by open-source Python libraries**\\\n",
        "*Linear programming (LP) and mixed integer linear programming (MILP)*\\\n",
        "https://youtu.be/rA4QHmjqo1c?t=1649\n",
        "\n",
        "كيف يمكننا كـ Data Scientists أننا نبني linear program in python?\n"
      ],
      "metadata": {
        "id": "SnclidGGKOs3"
      }
    },
    {
      "cell_type": "markdown",
      "source": [
        "توجد العديد من مكتبات البايثون واللي تعتبر open-source ومنها:\n",
        "- pyomo\n",
        "- PuLP\n",
        "- OR Tools\n",
        "\n",
        "--\n",
        "\n",
        "These Python libraries will usually interface with a **solver** in the backend.\n",
        "\n",
        "بعض الـ solver تعتبر سريعة بس يعيبها أنها مهي مفتوحة وتتطلب license لاستخدامها.\\\n",
        "لكن هناك بعض الـ solvers واللي راح تساعدنا على الحل وهي open-source\n",
        "\n",
        "هنا قائمة لبعض الـ solvers السريعة سواء كانت open-source or commercial:\n",
        "- CBC\n",
        "- GLPK\n",
        "- GUROBI (*Very fast - commercially license*)\n",
        "- CPLEX (*Very fast - commercially license*)\n",
        "\n",
        "> **OR-Tools** comes with its own **linear programming solver**, called **GLOP** (*Google Linear Optimization Package*). It is an open-source project created by Google’s Operations Research Team.\n",
        "(اللي سبق جربناها [هنا](https://github.com/JBadawood/Mathematical_Optimization/blob/main/Linear_Programming/LP_in_Python.ipynb))"
      ],
      "metadata": {
        "id": "g8024tF5LFeX"
      }
    },
    {
      "cell_type": "markdown",
      "source": [
        "**Optimizing Life Everyday Problems Solved with Linear Programing in Python**\\\n",
        "https://youtu.be/7yZ5xxdkTb8?t=227\n",
        "\n",
        "عشان ننشىء ونحل مسائل البرمجة الخطية عبر البايثون راح نحتاج solver بالإضافة لـ modeling framework\n",
        "\n",
        "**Solver:**\n",
        "- GLPK (GNU Linear Programming Kit)\n",
        "- COIN\n",
        "- CPLEX\n",
        "- GUROBI\n",
        "- Revised Simplex Method\n",
        "- Interior Point Methods\n",
        "- Interior-Point-Legacy Linear Programming\n",
        "- Active-Set linprog Algorithm\n",
        "\n",
        "**Modeling Framework:**\n",
        "- SciPy\n",
        "- PyOMO\n",
        "- PuLP\n",
        "\n",
        "> `PyOMO` ما تسمح لنا أننا نكتب البرمجة الخطية في البايثون لذلك نحتاج نكتبها In mathematical language\n",
        "\n",
        "> `SciPy` هنا يتطلب مننا أننا نحول الـ data حقنا إلى NumPy array \n",
        "\n",
        "> `PuLP` open-source ونقدر عن طريقه نحدد أي من الـ solver للحل"
      ],
      "metadata": {
        "id": "-mbCHyAxGdvO"
      }
    },
    {
      "cell_type": "markdown",
      "source": [
        "**PuLP** is an LP modeler written in python. PuLP can generate MPS or LP files and call GLPK, COIN CLP/CBC, CPLEX, and GUROBI to solve linear problems.\n",
        "https://pypi.org/project/PuLP/"
      ],
      "metadata": {
        "id": "0LPz-zN8JQzl"
      }
    },
    {
      "cell_type": "markdown",
      "source": [
        "## **2- Using Linear Programming to Optimize Everyday Decision Making**\n",
        "https://youtu.be/7yZ5xxdkTb8?t=307"
      ],
      "metadata": {
        "id": "xKhJaAFDSaZF"
      }
    },
    {
      "cell_type": "markdown",
      "source": [
        "### 2-1 What's for Dinner"
      ],
      "metadata": {
        "id": "Iz8sNu-XTNIW"
      }
    },
    {
      "cell_type": "markdown",
      "source": [
        "مثال عن تحديد وجبة العشاء الأقل تكلفة واللي تعطينا كمية البروتين الكافية لنا حيث في النظام الغذاء السليم نحتاج\\\n",
        "4 units protein/day\n",
        "\n",
        "- Steak: 2 units of protein/pound, `$3`/pound\n",
        "> الباوند الواحد من الـ steak راح يعطينا وحدتين من البروتين حيث تكلفة الباوند الواحد ثلاثة دولارات\n",
        "- Peanut Butter: 1 unit of protein/pound, `$2`/pound\n",
        "> الباوند الواحد من peanut better سعره دولارين وراح يعطينا وحدة واحدة من البروتين\n",
        "\n"
      ],
      "metadata": {
        "id": "SkrDwRJVTzOf"
      }
    },
    {
      "cell_type": "markdown",
      "source": [
        "**Decision Variables**\\\n",
        "$x_1$: No. of Peanut Butter\\\n",
        "$x_2$: No. of Steak\n",
        "\n",
        "**Objective Function**\\\n",
        "$Minimize:\\ z=2*x_1+3*x_2$\n",
        "\n",
        "**Constraints**\\\n",
        "$x_1+2*x_2 \\ge 4$"
      ],
      "metadata": {
        "id": "2cbARDpoY8NK"
      }
    },
    {
      "cell_type": "markdown",
      "source": [
        "### 2-2 Translating LP/IP into Code"
      ],
      "metadata": {
        "id": "geXlTYmHTSop"
      }
    },
    {
      "cell_type": "markdown",
      "source": [
        "#### 2-2-1 Install PuLP"
      ],
      "metadata": {
        "id": "LsYHyxJRci_I"
      }
    },
    {
      "cell_type": "code",
      "source": [
        "pip install pulp"
      ],
      "metadata": {
        "colab": {
          "base_uri": "https://localhost:8080/"
        },
        "id": "-_nCiLxqbgsy",
        "outputId": "d30631c4-d7a1-43de-a4e7-3966bc9f5798"
      },
      "execution_count": 2,
      "outputs": [
        {
          "output_type": "stream",
          "name": "stdout",
          "text": [
            "Looking in indexes: https://pypi.org/simple, https://us-python.pkg.dev/colab-wheels/public/simple/\n",
            "Collecting pulp\n",
            "  Downloading PuLP-2.7.0-py3-none-any.whl (14.3 MB)\n",
            "\u001b[K     |████████████████████████████████| 14.3 MB 4.4 MB/s \n",
            "\u001b[?25hInstalling collected packages: pulp\n",
            "Successfully installed pulp-2.7.0\n"
          ]
        }
      ]
    },
    {
      "cell_type": "code",
      "execution_count": 3,
      "metadata": {
        "id": "iHrh8HdtF90j"
      },
      "outputs": [],
      "source": [
        "from pulp import *"
      ]
    },
    {
      "cell_type": "code",
      "source": [
        "prob = pulp.LpProblem(\"Diet\", LpMinimize)"
      ],
      "metadata": {
        "id": "xTsSJcwabz8w"
      },
      "execution_count": 6,
      "outputs": []
    },
    {
      "cell_type": "markdown",
      "source": [
        "#### 2-2-2 Decision Varaibles"
      ],
      "metadata": {
        "id": "-bc-I2vVcs07"
      }
    },
    {
      "cell_type": "code",
      "source": [
        "# Decision Variables\n",
        "x1 = LpVariable('PeanutButter',0,None,LpInteger)\n",
        "x2 = LpVariable('Steak',0,None,LpInteger)"
      ],
      "metadata": {
        "id": "KIMnLFwJcd_J"
      },
      "execution_count": 7,
      "outputs": []
    },
    {
      "cell_type": "markdown",
      "source": [
        "#### 2-2-3 Objective Function"
      ],
      "metadata": {
        "id": "kRdjn2IbdP_8"
      }
    },
    {
      "cell_type": "code",
      "source": [
        "prob += 2*x1 + 3*x2, \"Total Cost\" "
      ],
      "metadata": {
        "id": "Klpj9AyjdTvh"
      },
      "execution_count": 8,
      "outputs": []
    },
    {
      "cell_type": "markdown",
      "source": [
        "#### 2-2-4 Constraints"
      ],
      "metadata": {
        "id": "GYWdg3kKdnf-"
      }
    },
    {
      "cell_type": "code",
      "source": [
        "prob += x1 + 2*x2 >= 4, \"Minimum Protein Intake\""
      ],
      "metadata": {
        "id": "DQ-cefx7dm2D"
      },
      "execution_count": 9,
      "outputs": []
    },
    {
      "cell_type": "markdown",
      "source": [
        "#### 2-2-5 Solution"
      ],
      "metadata": {
        "id": "5Ut7OGQVeQAJ"
      }
    },
    {
      "cell_type": "code",
      "source": [
        "prob.solve()"
      ],
      "metadata": {
        "colab": {
          "base_uri": "https://localhost:8080/"
        },
        "id": "qwnwcl9zeAPB",
        "outputId": "a9701fed-8d50-4e27-c416-7044ba1feafa"
      },
      "execution_count": 10,
      "outputs": [
        {
          "output_type": "execute_result",
          "data": {
            "text/plain": [
              "1"
            ]
          },
          "metadata": {},
          "execution_count": 10
        }
      ]
    },
    {
      "cell_type": "code",
      "source": [
        "print(\"Status:\", LpStatus[prob.status])"
      ],
      "metadata": {
        "colab": {
          "base_uri": "https://localhost:8080/"
        },
        "id": "73Gx4NLueUp-",
        "outputId": "bf1858f5-9497-4da2-a809-bb45a8ba1d1e"
      },
      "execution_count": 11,
      "outputs": [
        {
          "output_type": "stream",
          "name": "stdout",
          "text": [
            "Status: Optimal\n"
          ]
        }
      ]
    },
    {
      "cell_type": "code",
      "source": [
        "for v in prob.variables():\n",
        "    print(v.name, \"=\", v.varValue)"
      ],
      "metadata": {
        "colab": {
          "base_uri": "https://localhost:8080/"
        },
        "id": "o4kQcS_XerPP",
        "outputId": "f19fab64-1552-4bfe-b0a2-f17fd691eef6"
      },
      "execution_count": 13,
      "outputs": [
        {
          "output_type": "stream",
          "name": "stdout",
          "text": [
            "PeanutButter = 0.0\n",
            "Steak = 2.0\n"
          ]
        }
      ]
    },
    {
      "cell_type": "code",
      "source": [
        "print('Optimal solution to the problem: ',value(prob.objective))"
      ],
      "metadata": {
        "colab": {
          "base_uri": "https://localhost:8080/"
        },
        "id": "Hc85IRg_fHDp",
        "outputId": "a504285d-7a29-4e8f-ba10-3dbe845c37a6"
      },
      "execution_count": 14,
      "outputs": [
        {
          "output_type": "stream",
          "name": "stdout",
          "text": [
            "Optimal solution to the problem:  6.0\n"
          ]
        }
      ]
    },
    {
      "cell_type": "markdown",
      "source": [
        "## Example 1: How to Decide on Optimal Vacation Packages"
      ],
      "metadata": {
        "id": "EgfyFFVhYLgV"
      }
    },
    {
      "cell_type": "code",
      "source": [],
      "metadata": {
        "id": "2Q1w2dVoYk3O"
      },
      "execution_count": null,
      "outputs": []
    },
    {
      "cell_type": "markdown",
      "source": [
        "## Example 2: How to Create Optimal Reading List"
      ],
      "metadata": {
        "id": "nYghbBjQYbc1"
      }
    },
    {
      "cell_type": "code",
      "source": [],
      "metadata": {
        "id": "18G78pqbYlWf"
      },
      "execution_count": null,
      "outputs": []
    }
  ]
}