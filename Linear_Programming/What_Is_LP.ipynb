{
  "nbformat": 4,
  "nbformat_minor": 0,
  "metadata": {
    "colab": {
      "provenance": [],
      "toc_visible": true,
      "authorship_tag": "ABX9TyM31pQdWdK8n/ahejYw2xma",
      "include_colab_link": true
    },
    "kernelspec": {
      "name": "python3",
      "display_name": "Python 3"
    },
    "language_info": {
      "name": "python"
    }
  },
  "cells": [
    {
      "cell_type": "markdown",
      "metadata": {
        "id": "view-in-github",
        "colab_type": "text"
      },
      "source": [
        "<a href=\"https://colab.research.google.com/github/JBadawood/Mathematical_Optimization/blob/main/Linear_Programming/What_Is_LP.ipynb\" target=\"_parent\"><img src=\"https://colab.research.google.com/assets/colab-badge.svg\" alt=\"Open In Colab\"/></a>"
      ]
    },
    {
      "cell_type": "markdown",
      "source": [
        "# **What is Linear Programming (LP)?**"
      ],
      "metadata": {
        "id": "6iM05WuSlRU0"
      }
    },
    {
      "cell_type": "markdown",
      "source": [
        "[What is Linear Programming (LP)? (in 2 minutes)](https://youtu.be/C0TTxV0n9OA)\n",
        "\n",
        "CVXPY is an open source Python-embedded modeling language for **convex optimization** problems.\\\n",
        "https://www.cvxpy.org/\n",
        "\n",
        "[GitHub](https://github.com/cvxpy/cvxpy)\n",
        "\n",
        "---\n",
        "**تحسين محدب**\\\n",
        "عملية إيجاد الحد الأدنى من **دالة محدبة** باستخدام أساليب رياضية.\n",
        "\n",
        "**Convex Optimization**\\\n",
        "A process of finding the minimum of a **convex function** using mathematical techniques.\n",
        "\n",
        "--\n",
        "\n",
        "**دالة محدبة**\\\n",
        "دالة تكون المنطقة فوق رسمها البياني عبارة عن **مجموعة محدبة**.\n",
        "\n",
        "**Convex Function**\\\n",
        "A function in which the area above its graph is a **convex set**.\n",
        "\n",
        "--\n",
        "\n",
        "**مجموعة محدبة**\\\n",
        "مجموعة فرعية من الفضاء الإقليدي حيث يبقى الخط المرسوم بين أي نقطتين في المجموعة الفرعية بالكامل داخل المجموعة الفرعية.\n",
        "\n",
        "**Convex Set**\\\n",
        "A subset of Euclidean space in which a drawn line between any two points in the subset stays totally within the subset.\n",
        "\n",
        ">المصدر: [معجـــم البيانـــات والـــذكاء االصطناعـــي](https://sdaia.gov.sa/files/Dictionary.pdf) من الهيئة السعودية للبيانات والذكاء الاصطناعي بالتعاون مع مجمع الملك سلمان العالمي للغة العربية (الطبعة الأولى 2022)\n",
        "--- \n",
        "\n",
        "CVXPY **is not** a solver. It relies upon the open source solvers ECOS, SCS, and OSQP. Additional solvers are available, but must be installed separately.\n",
        "\n",
        "\\\n",
        "\n",
        "**Choosing a solver**\\\n",
        "https://www.cvxpy.org/tutorial/advanced/index.html#choosing-a-solver\n",
        "\\\n",
        "CVXPY is distributed with the open source solvers ECOS, OSQP, and SCS. Many other solvers can be called by CVXPY if installed separately:\n",
        "- [Google's Linear Optimization Package (GLOP)](https://github.com/google/or-tools/tree/stable/ortools/glop) | [Goolgle OR-Tools](https://developers.google.com/optimization)\n",
        "- CBC\n",
        "- GLPK\n",
        "- GLPK_MI\n",
        "- OSQP\n",
        "- PDLP\n",
        "- CPLEX\n",
        "- NAG\n",
        "- ECOS\n",
        "- GUROBI\n",
        "- MOSEK\n",
        "- CVXOPT\n",
        "- SCS\n",
        "- SCIP\n",
        "- XPRESS\n",
        "- SCIPY"
      ],
      "metadata": {
        "id": "NLCjv1dFkw1A"
      }
    },
    {
      "cell_type": "markdown",
      "source": [
        "## **1- Example of Linear Programming**"
      ],
      "metadata": {
        "id": "ocBubgPrtRQF"
      }
    },
    {
      "cell_type": "markdown",
      "source": [
        "لو أننا في شركة تنتج نوعين من السيارات الكهربائية:\n",
        "- السيارة الأولى من نوع S تتطلب يومين عشان عشان نسويها وأربع بطاريات وهامش الربح فيها ألف ريال\n",
        "- أما السيارة من نوع y راح نصنعها في 15 يوم وتتطلب 8 بطاريات وبهامش ربح خمسة آلاف ريال\n",
        "\n",
        "لو أعطينا مدة سنة كاملة ومخزون من 500 بطارية كيف ممكن نزود من أرباح الشركة؟"
      ],
      "metadata": {
        "id": "NdjGy-w_sDCg"
      }
    },
    {
      "cell_type": "markdown",
      "source": [
        "Linear Programming\n",
        "\n",
        "Decision Variables:\\\n",
        "$s$: عدد السيارات من موديل s\\\n",
        "$y$: عدد السيارات من موديل y\n",
        "\n",
        "\\\n",
        "\n",
        "Objective Function:\\\n",
        "$Max:\\ \\ z=1000*s + 5000*y$\n",
        "\n",
        "subject to:\\\n",
        "$4*s + 8*y \\le 500$\n",
        "\n",
        "$2*s + 15*y \\le 365$"
      ],
      "metadata": {
        "id": "FJS_900Pqgsc"
      }
    },
    {
      "cell_type": "markdown",
      "source": [
        "> نلاحظ أن كلا دالة الهدف والقيود عبارة عن دوال خطية لذلك راح نسميها (برمجة خطية)\n"
      ],
      "metadata": {
        "id": "uC2Lsm9WuS44"
      }
    },
    {
      "cell_type": "markdown",
      "source": [
        "The set of all decisions that satisfy the constraints is called the **Feasible Set**.\n",
        "\n",
        "راح نعرف البرمجة الخطية على أنها تتعامل مع faces of feasible set وكأنها falt وهذا ما يعرف بمصطلح **Polyhedron** وهي عبارة عن الـ set with flat faces\n",
        "\n",
        "https://youtu.be/C0TTxV0n9OA?t=40"
      ],
      "metadata": {
        "id": "geIvEWiBu9rw"
      }
    },
    {
      "cell_type": "markdown",
      "source": [
        "نقدر نوجد الـ optimal solution بطريقتين:\n",
        "- Simplex Method\n",
        "- Interior Point Method"
      ],
      "metadata": {
        "id": "ekQjYPVywCsI"
      }
    },
    {
      "cell_type": "markdown",
      "source": [
        "## **2- Solving Linear Program in Python**"
      ],
      "metadata": {
        "id": "hDf1xVKtxUgM"
      }
    },
    {
      "cell_type": "markdown",
      "source": [
        "### 2-1 Install & Import CVXPY"
      ],
      "metadata": {
        "id": "Zx7kQsMNyC4w"
      }
    },
    {
      "cell_type": "code",
      "execution_count": 1,
      "metadata": {
        "colab": {
          "base_uri": "https://localhost:8080/"
        },
        "id": "8dkPRsiFkv88",
        "outputId": "ccb2ffec-3cef-4c44-887f-6412da9bc272"
      },
      "outputs": [
        {
          "output_type": "stream",
          "name": "stdout",
          "text": [
            "Looking in indexes: https://pypi.org/simple, https://us-python.pkg.dev/colab-wheels/public/simple/\n",
            "Requirement already satisfied: cvxpy in /usr/local/lib/python3.8/dist-packages (1.2.2)\n",
            "Requirement already satisfied: scs>=1.1.6 in /usr/local/lib/python3.8/dist-packages (from cvxpy) (3.2.2)\n",
            "Requirement already satisfied: numpy>=1.15 in /usr/local/lib/python3.8/dist-packages (from cvxpy) (1.21.6)\n",
            "Requirement already satisfied: osqp>=0.4.1 in /usr/local/lib/python3.8/dist-packages (from cvxpy) (0.6.2.post0)\n",
            "Requirement already satisfied: ecos>=2 in /usr/local/lib/python3.8/dist-packages (from cvxpy) (2.0.10)\n",
            "Requirement already satisfied: scipy>=1.1.0 in /usr/local/lib/python3.8/dist-packages (from cvxpy) (1.7.3)\n",
            "Requirement already satisfied: qdldl in /usr/local/lib/python3.8/dist-packages (from osqp>=0.4.1->cvxpy) (0.1.5.post2)\n"
          ]
        }
      ],
      "source": [
        "# Install the package cvxpy\n",
        "!pip install cvxpy"
      ]
    },
    {
      "cell_type": "code",
      "source": [
        "# Import cvxpy\n",
        "import cvxpy as cp"
      ],
      "metadata": {
        "id": "y4rPDuuixpXW"
      },
      "execution_count": 2,
      "outputs": []
    },
    {
      "cell_type": "markdown",
      "source": [
        "### 2-2 Describe the Problem"
      ],
      "metadata": {
        "id": "KwzvCUI0yNjJ"
      }
    },
    {
      "cell_type": "markdown",
      "source": [
        "#### 2-2-1 Decision Varibles"
      ],
      "metadata": {
        "id": "wEQJzH-_y535"
      }
    },
    {
      "cell_type": "markdown",
      "source": [
        "Decision Variables:\\\n",
        "$s$: عدد السيارات من موديل s\\\n",
        "$y$: عدد السيارات من موديل y"
      ],
      "metadata": {
        "id": "JOi7jheuzNgY"
      }
    },
    {
      "cell_type": "code",
      "source": [
        "# Decision Varibles\n",
        "s = cp.Variable()\n",
        "y = cp.Variable()"
      ],
      "metadata": {
        "id": "X3vwQXR0x_KU"
      },
      "execution_count": 5,
      "outputs": []
    },
    {
      "cell_type": "markdown",
      "source": [
        "#### 2-2-2 Objective Function"
      ],
      "metadata": {
        "id": "Rg4sJPv9y8mU"
      }
    },
    {
      "cell_type": "markdown",
      "source": [
        "Objective Function:\\\n",
        "$Max:\\ \\ z=1000*s + 5000*y$"
      ],
      "metadata": {
        "id": "kEmo28LMzTPm"
      }
    },
    {
      "cell_type": "code",
      "source": [
        "# Objective Function\n",
        "objective = cp.Maximize(1000*s + 5000*y)"
      ],
      "metadata": {
        "id": "Syl3msYey0Uq"
      },
      "execution_count": 6,
      "outputs": []
    },
    {
      "cell_type": "markdown",
      "source": [
        "#### 2-2-3 Constraints"
      ],
      "metadata": {
        "id": "PPSZ1Drozc-D"
      }
    },
    {
      "cell_type": "markdown",
      "source": [
        "subject to:\\\n",
        "$4*s + 8*y \\le 500$\n",
        "\n",
        "$2*s + 15*y \\le 365$"
      ],
      "metadata": {
        "id": "A8ucyrY7zbMX"
      }
    },
    {
      "cell_type": "code",
      "source": [
        "# Constraints\n",
        "constraints = [\n",
        "    4*s + 8*y <=500,\n",
        "    2*s + 15*y <= 365\n",
        "]"
      ],
      "metadata": {
        "id": "TXypb-wyzbtB"
      },
      "execution_count": 8,
      "outputs": []
    },
    {
      "cell_type": "markdown",
      "source": [
        "### 2-3 Call the Solve Method & Optimal Solution"
      ],
      "metadata": {
        "id": "6USwz6s8yYGd"
      }
    },
    {
      "cell_type": "markdown",
      "source": [
        "#### 2-3-1 Solve Method"
      ],
      "metadata": {
        "id": "kJGoKQ1BzoGZ"
      }
    },
    {
      "cell_type": "code",
      "source": [
        "# Solve method\n",
        "prob = cp.Problem(objective, constraints)"
      ],
      "metadata": {
        "id": "aYHoIwZOz6ma"
      },
      "execution_count": 9,
      "outputs": []
    },
    {
      "cell_type": "code",
      "source": [
        "prob"
      ],
      "metadata": {
        "colab": {
          "base_uri": "https://localhost:8080/"
        },
        "id": "jDRmlz5k8n5w",
        "outputId": "1a68f136-6689-4e49-8d8b-8668d05f40a5"
      },
      "execution_count": 10,
      "outputs": [
        {
          "output_type": "execute_result",
          "data": {
            "text/plain": [
              "Problem(Maximize(Expression(AFFINE, UNKNOWN, ())), [Inequality(Expression(AFFINE, UNKNOWN, ())), Inequality(Expression(AFFINE, UNKNOWN, ()))])"
            ]
          },
          "metadata": {},
          "execution_count": 10
        }
      ]
    },
    {
      "cell_type": "markdown",
      "source": [
        "#### 2-3-2 Optimal Solution"
      ],
      "metadata": {
        "id": "iAePJ3k8z6MN"
      }
    },
    {
      "cell_type": "code",
      "source": [
        "# Get the optimal solution\n",
        "optimal_value = prob.solve()"
      ],
      "metadata": {
        "id": "0MZTS8WQycjx"
      },
      "execution_count": 11,
      "outputs": []
    },
    {
      "cell_type": "code",
      "source": [
        "optimal_value"
      ],
      "metadata": {
        "colab": {
          "base_uri": "https://localhost:8080/"
        },
        "id": "HLkzr4-t80xO",
        "outputId": "d01035d5-0672-49a5-d84e-1d3be435cb2b"
      },
      "execution_count": 12,
      "outputs": [
        {
          "output_type": "execute_result",
          "data": {
            "text/plain": [
              "156363.6363638718"
            ]
          },
          "metadata": {},
          "execution_count": 12
        }
      ]
    },
    {
      "cell_type": "code",
      "source": [
        "s.value"
      ],
      "metadata": {
        "colab": {
          "base_uri": "https://localhost:8080/"
        },
        "id": "1Q8FjrVq8z4-",
        "outputId": "5335fbd4-826c-41ef-da51-93a1044fa3ab"
      },
      "execution_count": 13,
      "outputs": [
        {
          "output_type": "execute_result",
          "data": {
            "text/plain": [
              "array(104.09090909)"
            ]
          },
          "metadata": {},
          "execution_count": 13
        }
      ]
    },
    {
      "cell_type": "code",
      "source": [
        "y.value"
      ],
      "metadata": {
        "colab": {
          "base_uri": "https://localhost:8080/"
        },
        "id": "NChuSZN89ADw",
        "outputId": "54a0a472-5e10-4a93-f811-eb6fe5c26dbc"
      },
      "execution_count": 14,
      "outputs": [
        {
          "output_type": "execute_result",
          "data": {
            "text/plain": [
              "array(10.45454545)"
            ]
          },
          "metadata": {},
          "execution_count": 14
        }
      ]
    },
    {
      "cell_type": "markdown",
      "source": [
        "> بكذا نعرف أن الأربح ممكن نوصلها أفضل شي إلى أن تصل قرابة 156 ألف ريال لمن يكون عدد السيارات من موديل s 104 سيارة ومن موديل y 10 سيارات"
      ],
      "metadata": {
        "id": "tK_F6DF-9Idy"
      }
    },
    {
      "cell_type": "markdown",
      "source": [
        "نلاحظ أن الأرقام بالكسور لأننا استخدمنا Linear programming بدل الـ integer programming"
      ],
      "metadata": {
        "id": "SGiR4gXt9jx7"
      }
    },
    {
      "cell_type": "code",
      "source": [
        "print(f\"Maximum Profit = {optimal_value},\\nwhen:\\nNo. of s model is {s.value}\\nand\\nNo. of y model is {y.value}\")"
      ],
      "metadata": {
        "colab": {
          "base_uri": "https://localhost:8080/"
        },
        "id": "pHXSp4Ji9CIi",
        "outputId": "07d2721f-3220-4a36-d423-58db48f44c5f"
      },
      "execution_count": 18,
      "outputs": [
        {
          "output_type": "stream",
          "name": "stdout",
          "text": [
            "Maximum Profit = 156363.6363638718,\n",
            "when:\n",
            "No. of s model is 104.09090909041859\n",
            "and\n",
            "No. of y model is 10.454545454690646\n"
          ]
        }
      ]
    }
  ]
}